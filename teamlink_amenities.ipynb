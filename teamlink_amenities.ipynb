{
  "cells": [
    {
      "cell_type": "markdown",
      "metadata": {},
      "source": [
        "# Find amenities around an input location(Google - Places API (New))"
      ]
    },
    {
      "cell_type": "markdown",
      "metadata": {},
      "source": [
        "### Loading packages"
      ]
    },
    {
      "cell_type": "code",
      "execution_count": 17,
      "metadata": {
        "id": "b5MdoRue49IJ"
      },
      "outputs": [],
      "source": [
        "import requests\n",
        "import pandas as pd\n",
        "import googlemaps"
      ]
    },
    {
      "cell_type": "markdown",
      "metadata": {},
      "source": [
        "### Define request funtions"
      ]
    },
    {
      "cell_type": "code",
      "execution_count": 18,
      "metadata": {},
      "outputs": [],
      "source": [
        "# This function returns latitude and longitude for an input address\n",
        "def gecodingapi(address):\n",
        "    Google_key='' # Put your google api key here\n",
        "    gmaps = googlemaps.Client(key=Google_key)\n",
        "    # Geocoding an address\n",
        "    geocode_result = gmaps.geocode(address)\n",
        "    latitude = geocode_result[0]['geometry']['location']['lat']\n",
        "    longitude = geocode_result[0]['geometry']['location']['lng']\n",
        "    return latitude,longitude"
      ]
    },
    {
      "cell_type": "markdown",
      "metadata": {},
      "source": [
        "This function calls the Google API and returns dataframe based on your input parameters:\n",
        "\n",
        "url: 'https://places.googleapis.com/v1/places:searchNearby'\n",
        "\n",
        "search_type: You can find the type of search from the Google document.\n",
        "\n",
        "search_type_name: Self-Name your search type.\n",
        "\n",
        "maxcount: Number of reslts return(max: 20)\n",
        "\n",
        "exclude_type:  List of types that exluded in a search(Google document)\n",
        "\n",
        "lat: Latitude,\n",
        "\n",
        "lon: Longitude,\n",
        "\n",
        "radius: Radius of circle in metre,\n",
        "\n",
        "field: Set up returning information such as Name, Address, Photo, primary type, url and so on(Google document)\n",
        "\n",
        "*Document: https://developers.google.com/maps/documentation/places/web-service/nearby-search\n",
        "\n",
        "*Field: https://developers.google.com/maps/documentation/places/web-service/place-types"
      ]
    },
    {
      "cell_type": "code",
      "execution_count": 19,
      "metadata": {
        "id": "lAFGhBmG1brf"
      },
      "outputs": [],
      "source": [
        "# This function calls the Google API and returns dataframe based on your input fields\n",
        "def google_api(url,search_type,search_type_name,maxcount,exclude_type,lat,lon,radius,field):\n",
        "    # Define the API endpoint\n",
        "    url = url\n",
        "    # Define the payload\n",
        "    Google_key='' # Put your google api key here\n",
        "    if not exclude_type:\n",
        "        payload = {\n",
        "            \"includedTypes\": search_type, # List of types can be found at Table A, B\n",
        "            \"maxResultCount\": maxcount, # Number of results returns(max: 20)\n",
        "            \"locationRestriction\": {\n",
        "                \"circle\": {\n",
        "                    \"center\": {\n",
        "                        \"latitude\": lat, # Latitude\n",
        "                        \"longitude\": lon # Longitude\n",
        "                    },\n",
        "                    \"radius\": radius # Radius of circle in metre\n",
        "                }\n",
        "            }\n",
        "        }\n",
        "    else:\n",
        "        payload = {\n",
        "            \"includedTypes\": search_type, # List of types can be found at Table A, B\n",
        "            \"maxResultCount\": maxcount, # Number of results returns(max: 20)\n",
        "            \"excludedTypes\": exclude_type, # List of types that exluded in the result\n",
        "            \"locationRestriction\": {\n",
        "                \"circle\": {\n",
        "                    \"center\": {\n",
        "                        \"latitude\": lat, # Latitude\n",
        "                        \"longitude\": lon # Longitude\n",
        "                    },\n",
        "                    \"radius\": radius # Radius of circle in metre\n",
        "                }\n",
        "            }\n",
        "        }\n",
        "\n",
        "    # Define the headers\n",
        "    headers = {\n",
        "        'Content-Type': 'application/json',\n",
        "        'X-Goog-Api-Key': Google_key,\n",
        "        'X-Goog-FieldMask': field # Address informations\n",
        "    }\n",
        "\n",
        "    # Make the POST request\n",
        "    response = requests.post(url, json=payload, headers=headers)\n",
        "    places = response.json()['places']\n",
        "    # Create a DataFrame\n",
        "    df_search= pd.DataFrame([{\n",
        "        'Searched': search_type_name,\n",
        "        'Name': place.get('displayName', {}).get('text', 'N/A'),\n",
        "        'Address': place['formattedAddress'],\n",
        "        'Website': place.get('websiteUri', 'N/A'),\n",
        "        'Google Maps': place.get('googleMapsUri', 'N/A'),\n",
        "        'Types': ', '.join(place['types']),\n",
        "        'Latitude': place.get('location', {}).get('latitude', 'N/A'),\n",
        "        'Longitude': place.get('location', {}).get('longitude', 'N/A'),\n",
        "        'Primary Type': place.get('primaryTypeDisplayName', {}).get('text', 'N/A'),\n",
        "        'Photos': 'https://places.googleapis.com/v1/'+place.get('photos')[0].get('name', 'N/A')+'/media?key='+Google_key+'&maxHeightPx=600'\n",
        "    } if place.get('photos') is not None else {'Searched': search_type_name,\n",
        "        'Name': place.get('displayName', {}).get('text', 'N/A'),\n",
        "        'Address': place['formattedAddress'],\n",
        "        'Website': place.get('websiteUri', 'N/A'),\n",
        "        'Google Maps': place.get('googleMapsUri', 'N/A'),\n",
        "        'Types': ', '.join(place['types']),\n",
        "        'Latitude': place.get('location', {}).get('latitude', 'N/A'),\n",
        "        'Longitude': place.get('location', {}).get('longitude', 'N/A'),\n",
        "        'Primary Type': place.get('primaryTypeDisplayName', {}).get('text', 'N/A'),\n",
        "        'Photos': None}\n",
        "    for place in places])\n",
        "    return df_search"
      ]
    },
    {
      "cell_type": "code",
      "execution_count": 20,
      "metadata": {},
      "outputs": [],
      "source": [
        "def google_api_primary(url,search_type,search_type_name,maxcount,exclude_type,lat,lon,radius,field):\n",
        "    # Define the API endpoint\n",
        "    url = url\n",
        "    # Define the payload\n",
        "    Google_key='' # Put your google api key here\n",
        "    if not exclude_type:\n",
        "        payload = {\n",
        "            \"includedPrimaryTypes\": search_type,\n",
        "            \"maxResultCount\": maxcount,\n",
        "            \"locationRestriction\": {\n",
        "                \"circle\": {\n",
        "                    \"center\": {\n",
        "                        \"latitude\": lat,\n",
        "                        \"longitude\": lon\n",
        "                    },\n",
        "                    \"radius\": radius\n",
        "                }\n",
        "            }\n",
        "        }\n",
        "    else:\n",
        "        payload = {\n",
        "            \"includedPrimaryTypes\": search_type,\n",
        "            \"maxResultCount\": maxcount,\n",
        "            \"excludedTypes\": exclude_type,\n",
        "            \"locationRestriction\": {\n",
        "                \"circle\": {\n",
        "                    \"center\": {\n",
        "                        \"latitude\": lat,\n",
        "                        \"longitude\": lon\n",
        "                    },\n",
        "                    \"radius\": radius\n",
        "                }\n",
        "            }\n",
        "        }\n",
        "\n",
        "    # Define the headers\n",
        "    headers = {\n",
        "        'Content-Type': 'application/json',\n",
        "        'X-Goog-Api-Key': Google_key, \n",
        "        'X-Goog-FieldMask': field\n",
        "    }\n",
        "\n",
        "    # Make the POST request\n",
        "    response = requests.post(url, json=payload, headers=headers)\n",
        "    # print(response.json())\n",
        "    places = response.json()['places']\n",
        "    \n",
        "    # Create a DataFrame\n",
        "    df_search= pd.DataFrame([{\n",
        "        'Searched': search_type_name,\n",
        "        'Name': place.get('displayName', {}).get('text', 'N/A'),\n",
        "        'Address': place['formattedAddress'],\n",
        "        'Website': place.get('websiteUri', 'N/A'),\n",
        "        'Google Maps': place.get('googleMapsUri', 'N/A'),\n",
        "        'Types': ', '.join(place['types']),\n",
        "        'Latitude': place.get('location', {}).get('latitude', 'N/A'),\n",
        "        'Longitude': place.get('location', {}).get('longitude', 'N/A'),\n",
        "        'Primary Type': place.get('primaryTypeDisplayName', {}).get('text', 'N/A'),\n",
        "        'Photos': 'https://places.googleapis.com/v1/'+place.get('photos')[0].get('name', 'N/A')+'/media?key='+Google_key+'&maxHeightPx=600'\n",
        "    } if place.get('photos') is not None else {'Searched': search_type_name,\n",
        "        'Name': place.get('displayName', {}).get('text', 'N/A'),\n",
        "        'Address': place['formattedAddress'],\n",
        "        'Website': place.get('websiteUri', 'N/A'),\n",
        "        'Google Maps': place.get('googleMapsUri', 'N/A'),\n",
        "        'Types': ', '.join(place['types']),\n",
        "        'Latitude': place.get('location', {}).get('latitude', 'N/A'),\n",
        "        'Longitude': place.get('location', {}).get('longitude', 'N/A'),\n",
        "        'Primary Type': place.get('primaryTypeDisplayName', {}).get('text', 'N/A'),\n",
        "        'Photos': None}\n",
        "    for place in places])\n",
        "    return df_search"
      ]
    },
    {
      "cell_type": "markdown",
      "metadata": {},
      "source": [
        "### Example"
      ]
    },
    {
      "cell_type": "code",
      "execution_count": 25,
      "metadata": {},
      "outputs": [],
      "source": [
        "url='https://places.googleapis.com/v1/places:searchNearby' # This url is for all searching nearby places\n",
        "location=\"Ashfield, Sydney, Australia\"\n",
        "lat= gecodingapi(location)[0]\n",
        "lon= gecodingapi(location)[1]\n",
        "radius= 500.0\n",
        "field= 'places.displayName,places.formattedAddress,places.types,places.primaryTypeDisplayName,places.websiteUri,places.location,places.googleMapsUri,places.primaryType,places.photos'\n",
        "# Search for shopping stores around\n",
        "df_shop=google_api_primary(url=url,maxcount=5,search_type=[\"supermarket\",\"shopping_mall\",\"market\",\"liquor_store\",\"jewelry_store\",\"home_improvement_store\",\"home_goods_store\",\"grocery_store\",\"furniture_store\",\"gift_shop\",\"hardware_store\",\"clothing_store\",\"convenience_store\"],search_type_name=\"SHOPPING & RETAIL\",exclude_type=[\"child_care_agency\"],lat=lat,lon=lon,radius=radius,field=field)\n",
        "# Search for restaurances around\n",
        "df_res=google_api(url=url,maxcount=5,search_type=\"restaurant\",search_type_name=\"CAFES & RESTAURANTS\",exclude_type=[],lat=lat,lon=lon,radius=radius,field=field)\n",
        "# Search for schools around\n",
        "df_edu=google_api(url=url,maxcount=5,search_type=\"school\",search_type_name=\"EDUCATION\",exclude_type=[\"fitness_center\"],lat=lat,lon=lon,radius=radius,field=field)\n",
        "# Search for entertainment places around\n",
        "df_lr=google_api(url=url,maxcount=5,search_type=[\"amusement_center\", \"amusement_park\", \"aquarium\", \"banquet_hall\", \"bowling_alley\", \"casino\", \"community_center\", \"convention_center\", \"cultural_center\", \"dog_park\", \"hiking_area\", \"historical_landmark\", \"marina\", \"movie_rental\", \"movie_theater\", \"national_park\", \"park\", \"tourist_attraction\", \"visitor_center\", \"zoo\"],search_type_name=\"LEISURE & RECREATION\",exclude_type=\"\",lat=lat,lon=lon,radius=radius,field=field)\n",
        "# Combine all df above\n",
        "combined_df = pd.concat([df_shop, df_res,df_edu,df_lr], axis=0).reset_index().drop([\"index\"], axis=1)\n",
        "combined_df"
      ]
    }
  ],
  "metadata": {
    "colab": {
      "provenance": []
    },
    "kernelspec": {
      "display_name": "Python 3",
      "name": "python3"
    },
    "language_info": {
      "codemirror_mode": {
        "name": "ipython",
        "version": 3
      },
      "file_extension": ".py",
      "mimetype": "text/x-python",
      "name": "python",
      "nbconvert_exporter": "python",
      "pygments_lexer": "ipython3",
      "version": "3.10.12"
    }
  },
  "nbformat": 4,
  "nbformat_minor": 0
}
